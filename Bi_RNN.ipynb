{
  "nbformat": 4,
  "nbformat_minor": 0,
  "metadata": {
    "colab": {
      "name": "RNN.ipynb",
      "provenance": [],
      "authorship_tag": "ABX9TyMsKEsSlzV65m4TOcOnVum3",
      "include_colab_link": true
    },
    "kernelspec": {
      "name": "python3",
      "display_name": "Python 3"
    }
  },
  "cells": [
    {
      "cell_type": "markdown",
      "metadata": {
        "id": "view-in-github",
        "colab_type": "text"
      },
      "source": [
        "<a href=\"https://colab.research.google.com/github/RogerHeederer/DL_Entry_Pytorch/blob/master/Bi_RNN.ipynb\" target=\"_parent\"><img src=\"https://colab.research.google.com/assets/colab-badge.svg\" alt=\"Open In Colab\"/></a>"
      ]
    },
    {
      "cell_type": "markdown",
      "metadata": {
        "id": "cy-b-i0FD404"
      },
      "source": [
        "ref : pytorch로 시작하는 딥 러닝 입문"
      ]
    },
    {
      "cell_type": "code",
      "metadata": {
        "id": "H0zF8X9uDw-q"
      },
      "source": [
        "import numpy as np\n",
        "\n",
        "timesteps = 10\n",
        "input_size = 4\n",
        "hidden_size = 8\n",
        "\n",
        "inputs = np.random.random((timesteps, input_size))\n",
        "\n",
        "hidden_state_t = np.zeros((hidden_size, ))"
      ],
      "execution_count": 1,
      "outputs": []
    },
    {
      "cell_type": "code",
      "metadata": {
        "colab": {
          "base_uri": "https://localhost:8080/"
        },
        "id": "IjWDtCrXEpwx",
        "outputId": "2af2dc36-0345-4a7f-ebb3-4528e05a253a"
      },
      "source": [
        "print(hidden_state_t)"
      ],
      "execution_count": 2,
      "outputs": [
        {
          "output_type": "stream",
          "text": [
            "[0. 0. 0. 0. 0. 0. 0. 0.]\n"
          ],
          "name": "stdout"
        }
      ]
    },
    {
      "cell_type": "code",
      "metadata": {
        "id": "jcUN6P-1Etd-"
      },
      "source": [
        "Wx = np.random.random((hidden_size, input_size)) # (8,4) 2d 텐서 생성. 입력에 대한 가중치\n",
        "Wh = np.random.random((hidden_size, hidden_size)) #(8,8) 2d 텐서 생성. 은닉 상태에 대한 가중치\n",
        "b = np.random.random((hidden_size,)) #(8,) 1d 텐서 생성. bias"
      ],
      "execution_count": 3,
      "outputs": []
    },
    {
      "cell_type": "code",
      "metadata": {
        "colab": {
          "base_uri": "https://localhost:8080/"
        },
        "id": "wl5jeLCAFYiy",
        "outputId": "a8293822-4923-4a6e-9aa7-b0903d549b21"
      },
      "source": [
        "print(np.shape(Wx))\n",
        "print(np.shape(Wh))\n",
        "print(np.shape(b))"
      ],
      "execution_count": 4,
      "outputs": [
        {
          "output_type": "stream",
          "text": [
            "(8, 4)\n",
            "(8, 8)\n",
            "(8,)\n"
          ],
          "name": "stdout"
        }
      ]
    },
    {
      "cell_type": "code",
      "metadata": {
        "colab": {
          "base_uri": "https://localhost:8080/"
        },
        "id": "zC7HYXH2FaEL",
        "outputId": "05c7bf93-ddc9-474d-bc88-61144dc948e2"
      },
      "source": [
        "total_hidden_states = []\n",
        "\n",
        "for input_t in inputs: #각 시점에 따라서 입력값이 입력된다\n",
        "  output_t = np.tanh(np.dot(Wx,input_t) + np.dot(Wh,hidden_state_t) + b) #Wx*Xt + Wh*Ht-1 + b\n",
        "  total_hidden_states.append(list(output_t)) # 각 시점의 은닉 상태 값을 축적\n",
        "  print(np.shape(total_hidden_states)) #각 시점 t별 메모리 셀의 출력 형태 (timestep, output_dim)\n",
        "  hidden_state_t = output_t\n",
        "\n",
        "total_hidden_states = np.stack(total_hidden_states, axis = 0)\n",
        "print(\"------축척 히든 스테이트-----\")\n",
        "print(total_hidden_states)"
      ],
      "execution_count": 6,
      "outputs": [
        {
          "output_type": "stream",
          "text": [
            "(1, 8)\n",
            "(2, 8)\n",
            "(3, 8)\n",
            "(4, 8)\n",
            "(5, 8)\n",
            "(6, 8)\n",
            "(7, 8)\n",
            "(8, 8)\n",
            "(9, 8)\n",
            "(10, 8)\n",
            "------축척 히든 스테이트-----\n",
            "[[0.99975712 0.99988215 0.99999522 0.9999987  0.99998433 0.99999562\n",
            "  0.99928123 0.99996789]\n",
            " [0.99957377 0.99972855 0.99999545 0.99999721 0.99996615 0.99999315\n",
            "  0.99878689 0.99995927]\n",
            " [0.9996316  0.99984825 0.99999672 0.99999694 0.99998386 0.99999518\n",
            "  0.99940961 0.99995581]\n",
            " [0.9995663  0.99977788 0.99999466 0.99999716 0.99996933 0.99999262\n",
            "  0.99872889 0.99996024]\n",
            " [0.99955127 0.99962359 0.99999659 0.99999649 0.99995717 0.99999479\n",
            "  0.99907051 0.99995187]\n",
            " [0.99911762 0.99958689 0.99999298 0.9999915  0.99992573 0.99998872\n",
            "  0.99790458 0.99994398]\n",
            " [0.99953447 0.99985395 0.99999302 0.99999643 0.99997407 0.99999276\n",
            "  0.99887015 0.99995795]\n",
            " [0.99957657 0.99965201 0.99999729 0.99999681 0.999969   0.99999444\n",
            "  0.9991426  0.99995407]\n",
            " [0.99949653 0.99964457 0.99999682 0.99999615 0.99996651 0.99999261\n",
            "  0.99887616 0.99995375]\n",
            " [0.99972344 0.99972697 0.99999691 0.99999834 0.99997102 0.99999637\n",
            "  0.99931672 0.99996121]]\n"
          ],
          "name": "stdout"
        }
      ]
    },
    {
      "cell_type": "markdown",
      "metadata": {
        "id": "SHy1JOILG-l1"
      },
      "source": [
        "#파이토치로 구현하기 nn.RNN()"
      ]
    },
    {
      "cell_type": "code",
      "metadata": {
        "id": "PXylYHZdGUlW"
      },
      "source": [
        "import torch\n",
        "import torch.nn as nn"
      ],
      "execution_count": 7,
      "outputs": []
    },
    {
      "cell_type": "code",
      "metadata": {
        "id": "CfAuMX_9HRAO"
      },
      "source": [
        "input_size = 5\n",
        "hidden_szie = 8"
      ],
      "execution_count": 8,
      "outputs": []
    },
    {
      "cell_type": "code",
      "metadata": {
        "id": "BE69kpG6HhGH"
      },
      "source": [
        "#(batch size, time_steps, input_size)\n",
        "inputs = torch.Tensor(1, 10, 5)"
      ],
      "execution_count": 9,
      "outputs": []
    },
    {
      "cell_type": "code",
      "metadata": {
        "id": "8F5Ox_feHq3B"
      },
      "source": [
        "cell = nn.RNN(input_size, hidden_size, batch_first=True) #입력 텐서의 첫번째 차원이 배치 크기임을 알려줌"
      ],
      "execution_count": 10,
      "outputs": []
    },
    {
      "cell_type": "code",
      "metadata": {
        "colab": {
          "base_uri": "https://localhost:8080/"
        },
        "id": "AjqGQRbsH1e-",
        "outputId": "e2d68d72-de0a-4c1e-a83c-1748d5e198ed"
      },
      "source": [
        "outputs, _status = cell(inputs)\n",
        "print(outputs.shape)"
      ],
      "execution_count": 11,
      "outputs": [
        {
          "output_type": "stream",
          "text": [
            "torch.Size([1, 10, 8])\n"
          ],
          "name": "stdout"
        }
      ]
    },
    {
      "cell_type": "markdown",
      "metadata": {
        "id": "RUk-15XNIB5t"
      },
      "source": [
        "10번의 시점 동안 8차원의 은닉 상태가 출력되었음을 확인함"
      ]
    },
    {
      "cell_type": "code",
      "metadata": {
        "colab": {
          "base_uri": "https://localhost:8080/"
        },
        "id": "nw9HhkitH7LL",
        "outputId": "d3bd71c9-e8d6-4d48-8f18-821cf2252a16"
      },
      "source": [
        "print(_status.shape) #맘지막 시점의 은닉 상태 크기 확인"
      ],
      "execution_count": 12,
      "outputs": [
        {
          "output_type": "stream",
          "text": [
            "torch.Size([1, 1, 8])\n"
          ],
          "name": "stdout"
        }
      ]
    },
    {
      "cell_type": "markdown",
      "metadata": {
        "id": "f7e8c8OoJfJv"
      },
      "source": [
        "#깊은 순환 신경망"
      ]
    },
    {
      "cell_type": "markdown",
      "metadata": {
        "id": "iIXdDX3QKMgp"
      },
      "source": [
        "그림처럼 layer를 2층으로 쌓아보겠다."
      ]
    },
    {
      "cell_type": "markdown",
      "metadata": {
        "id": "ewc2vcRQKT1Q"
      },
      "source": [
        "<img src = \"https://drive.google.com/uc?export=view&id=1wMI5iT6EFsmJa8jpFepGMe4gj2tPBwL6\" align=left>"
      ]
    },
    {
      "cell_type": "code",
      "metadata": {
        "id": "CIFTkblwILgj"
      },
      "source": [
        "#(batch_size, time_steps, input_size)\n",
        "inputs = torch.Tensor(1, 10, 5)"
      ],
      "execution_count": 13,
      "outputs": []
    },
    {
      "cell_type": "code",
      "metadata": {
        "id": "56fZhU5cLIPB"
      },
      "source": [
        "cell_2 = nn.RNN(input_size = 5, hidden_size = 8, num_layers = 2, batch_first=True)\n",
        "outputs, _status = cell_2(inputs)"
      ],
      "execution_count": 19,
      "outputs": []
    },
    {
      "cell_type": "code",
      "metadata": {
        "colab": {
          "base_uri": "https://localhost:8080/"
        },
        "id": "3b3it0WvLUps",
        "outputId": "c2efac39-a8eb-4894-f55e-904b59d3ba55"
      },
      "source": [
        "print(outputs.shape) # 위에 1층으로 구성한 RNN 셀과 다르지 않다"
      ],
      "execution_count": 20,
      "outputs": [
        {
          "output_type": "stream",
          "text": [
            "torch.Size([1, 10, 8])\n"
          ],
          "name": "stdout"
        }
      ]
    },
    {
      "cell_type": "code",
      "metadata": {
        "colab": {
          "base_uri": "https://localhost:8080/"
        },
        "id": "zjIhOmQBLWqj",
        "outputId": "9ff438c2-0ed8-4576-d072-bad05d1f1522"
      },
      "source": [
        "print(_status.shape) # 1층 구성 RNN과 다름. (층의 개수, 배치 크기, 은닉 상태의 크기)"
      ],
      "execution_count": 21,
      "outputs": [
        {
          "output_type": "stream",
          "text": [
            "torch.Size([2, 1, 8])\n"
          ],
          "name": "stdout"
        }
      ]
    },
    {
      "cell_type": "markdown",
      "metadata": {
        "id": "PwcCIpt8NA6P"
      },
      "source": [
        "#양방향 순환 신경만 구현 Bidirectional RNN"
      ]
    },
    {
      "cell_type": "markdown",
      "metadata": {
        "id": "ER3wLaBcMyyO"
      },
      "source": [
        "<img src = \"https://drive.google.com/uc?export=view&id=1mFzNJt2e0jPF7VIW05SzMh0kd4RmygMg\" align=left>"
      ]
    },
    {
      "cell_type": "code",
      "metadata": {
        "id": "D3kWeS4SLsht"
      },
      "source": [
        "inputs = torch.Tensor(1, 10, 5)"
      ],
      "execution_count": 22,
      "outputs": []
    },
    {
      "cell_type": "code",
      "metadata": {
        "id": "DABxInaJNIeg"
      },
      "source": [
        "cell_bi_2 = nn.RNN(input_size=5, hidden_size=8, num_layers=2, batch_first=True, bidirectional=True)"
      ],
      "execution_count": 23,
      "outputs": []
    },
    {
      "cell_type": "code",
      "metadata": {
        "id": "PwdYg-H5NRvN"
      },
      "source": [
        "outputs, _status = cell_bi_2(inputs)"
      ],
      "execution_count": 26,
      "outputs": []
    },
    {
      "cell_type": "code",
      "metadata": {
        "colab": {
          "base_uri": "https://localhost:8080/"
        },
        "id": "ukalrezmNU0b",
        "outputId": "423ee9c2-0cbd-4b4d-9d3f-fce6354a4fd1"
      },
      "source": [
        "print(outputs.shape) # 배치 크기, 시퀀스 길이, 은닉 상태 크기 * 2(은닉상태값이 cancat됨)"
      ],
      "execution_count": 27,
      "outputs": [
        {
          "output_type": "stream",
          "text": [
            "torch.Size([1, 10, 16])\n"
          ],
          "name": "stdout"
        }
      ]
    },
    {
      "cell_type": "code",
      "metadata": {
        "colab": {
          "base_uri": "https://localhost:8080/"
        },
        "id": "9f3buO5zNaE6",
        "outputId": "1be420cd-856a-4be2-af04-4ff92bd3c062"
      },
      "source": [
        "print(_status.shape) # (층의 개수 x 2, 배치 크기, 은닉 상태의 크기)"
      ],
      "execution_count": 28,
      "outputs": [
        {
          "output_type": "stream",
          "text": [
            "torch.Size([4, 1, 8])\n"
          ],
          "name": "stdout"
        }
      ]
    },
    {
      "cell_type": "code",
      "metadata": {
        "id": "ad64ljmbNx34"
      },
      "source": [
        ""
      ],
      "execution_count": null,
      "outputs": []
    }
  ]
}
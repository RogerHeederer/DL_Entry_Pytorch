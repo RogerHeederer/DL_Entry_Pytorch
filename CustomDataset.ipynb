{
  "nbformat": 4,
  "nbformat_minor": 0,
  "metadata": {
    "colab": {
      "name": "CustomDataset.ipynb",
      "provenance": [],
      "authorship_tag": "ABX9TyNreQcBe/j+fiuQdqRVKO8O",
      "include_colab_link": true
    },
    "kernelspec": {
      "name": "python3",
      "display_name": "Python 3"
    }
  },
  "cells": [
    {
      "cell_type": "markdown",
      "metadata": {
        "id": "view-in-github",
        "colab_type": "text"
      },
      "source": [
        "<a href=\"https://colab.research.google.com/github/RogerHeederer/DL_Entry_Pytorch/blob/master/CustomDataset.ipynb\" target=\"_parent\"><img src=\"https://colab.research.google.com/assets/colab-badge.svg\" alt=\"Open In Colab\"/></a>"
      ]
    },
    {
      "cell_type": "code",
      "metadata": {
        "id": "Blf8za9W2yvM"
      },
      "source": [
        "import torch\n",
        "import torch.nn.functional as F\n",
        "\n",
        "from torch.utils.data import Dataset\n",
        "from torch.utils.data import DataLoader"
      ],
      "execution_count": 1,
      "outputs": []
    },
    {
      "cell_type": "code",
      "metadata": {
        "id": "kz9iJ6ay3LTC"
      },
      "source": [
        "#Dataset 상속\n",
        "class CustomDataset(Dataset):\n",
        "  def __init__(self):\n",
        "    self.x_data = [[73, 80, 75],\n",
        "                   [93, 88, 93],\n",
        "                   [89, 91, 90],\n",
        "                   [96, 98, 100],\n",
        "                   [73, 66, 70]]\n",
        "    self.y_data = [[152], [185], [180], [196], [142]]\n",
        "\n",
        "  # 총 데이터의 개수를 리턴\n",
        "  def __len__(self):\n",
        "    return len(self.x_data)\n",
        "\n",
        "  # 인덱스를 입력받아 그에 맵핑되는 입출력 데이터를 파이토치의 Tensor 형태로 리턴\n",
        "  def __getitem__(self, idx):\n",
        "    x = torch.FloatTensor(self.x_data[idx])\n",
        "    y = torch.FloatTensor(self.y_data[idx])\n",
        "    return x, y"
      ],
      "execution_count": 2,
      "outputs": []
    },
    {
      "cell_type": "code",
      "metadata": {
        "id": "7-VpsOyr5SnP"
      },
      "source": [
        "dataset = CustomDataset()\n",
        "dataloader = DataLoader(dataset, batch_size=2, shuffle=True)"
      ],
      "execution_count": 3,
      "outputs": []
    },
    {
      "cell_type": "code",
      "metadata": {
        "id": "VnLRiQCV5h1l"
      },
      "source": [
        "model = torch.nn.Linear(3,1)\n",
        "optimizer = torch.optim.SGD(model.parameters(), lr=1e-5)"
      ],
      "execution_count": 4,
      "outputs": []
    },
    {
      "cell_type": "code",
      "metadata": {
        "id": "nXrKyr-k51h4",
        "outputId": "5ca532c1-2c41-433b-e075-a132393727d1",
        "colab": {
          "base_uri": "https://localhost:8080/",
          "height": 1000
        }
      },
      "source": [
        "nb_epochs = 20\n",
        "for epoch in range(nb_epochs + 1):\n",
        "  for batch_idx, samples in enumerate(dataloader):\n",
        "    # print(batch_idx)\n",
        "    # print(samples)\n",
        "    x_train, y_train = samples\n",
        "    # H(x) 계산\n",
        "    prediction = model(x_train)\n",
        "\n",
        "    # cost 계산\n",
        "    cost = F.mse_loss(prediction, y_train)\n",
        "\n",
        "    # cost로 H(x) 계산\n",
        "    optimizer.zero_grad()\n",
        "    cost.backward()\n",
        "    optimizer.step()\n",
        "\n",
        "    print('Epoch {:4d}/{} Batch {}/{} Cost: {:.6f}'.format(\n",
        "        epoch, nb_epochs, batch_idx+1, len(dataloader),\n",
        "        cost.item()\n",
        "        ))"
      ],
      "execution_count": 5,
      "outputs": [
        {
          "output_type": "stream",
          "text": [
            "Epoch    0/20 Batch 1/3 Cost: 40816.648438\n",
            "Epoch    0/20 Batch 2/3 Cost: 6799.656738\n",
            "Epoch    0/20 Batch 3/3 Cost: 1596.692383\n",
            "Epoch    1/20 Batch 1/3 Cost: 1171.205444\n",
            "Epoch    1/20 Batch 2/3 Cost: 366.779724\n",
            "Epoch    1/20 Batch 3/3 Cost: 186.323578\n",
            "Epoch    2/20 Batch 1/3 Cost: 25.955463\n",
            "Epoch    2/20 Batch 2/3 Cost: 9.562531\n",
            "Epoch    2/20 Batch 3/3 Cost: 7.180480\n",
            "Epoch    3/20 Batch 1/3 Cost: 0.333899\n",
            "Epoch    3/20 Batch 2/3 Cost: 0.006936\n",
            "Epoch    3/20 Batch 3/3 Cost: 2.288893\n",
            "Epoch    4/20 Batch 1/3 Cost: 0.514062\n",
            "Epoch    4/20 Batch 2/3 Cost: 0.421339\n",
            "Epoch    4/20 Batch 3/3 Cost: 0.190113\n",
            "Epoch    5/20 Batch 1/3 Cost: 0.010503\n",
            "Epoch    5/20 Batch 2/3 Cost: 0.083355\n",
            "Epoch    5/20 Batch 3/3 Cost: 1.918379\n",
            "Epoch    6/20 Batch 1/3 Cost: 0.650800\n",
            "Epoch    6/20 Batch 2/3 Cost: 0.337467\n",
            "Epoch    6/20 Batch 3/3 Cost: 0.009617\n",
            "Epoch    7/20 Batch 1/3 Cost: 0.770932\n",
            "Epoch    7/20 Batch 2/3 Cost: 0.146041\n",
            "Epoch    7/20 Batch 3/3 Cost: 0.000001\n",
            "Epoch    8/20 Batch 1/3 Cost: 0.796197\n",
            "Epoch    8/20 Batch 2/3 Cost: 0.127476\n",
            "Epoch    8/20 Batch 3/3 Cost: 0.000228\n",
            "Epoch    9/20 Batch 1/3 Cost: 0.000680\n",
            "Epoch    9/20 Batch 2/3 Cost: 0.768050\n",
            "Epoch    9/20 Batch 3/3 Cost: 0.330236\n",
            "Epoch   10/20 Batch 1/3 Cost: 0.026224\n",
            "Epoch   10/20 Batch 2/3 Cost: 0.862849\n",
            "Epoch   10/20 Batch 3/3 Cost: 0.314350\n",
            "Epoch   11/20 Batch 1/3 Cost: 0.864970\n",
            "Epoch   11/20 Batch 2/3 Cost: 0.132565\n",
            "Epoch   11/20 Batch 3/3 Cost: 0.000034\n",
            "Epoch   12/20 Batch 1/3 Cost: 0.101977\n",
            "Epoch   12/20 Batch 2/3 Cost: 0.948192\n",
            "Epoch   12/20 Batch 3/3 Cost: 0.007805\n",
            "Epoch   13/20 Batch 1/3 Cost: 0.073716\n",
            "Epoch   13/20 Batch 2/3 Cost: 0.065568\n",
            "Epoch   13/20 Batch 3/3 Cost: 1.700299\n",
            "Epoch   14/20 Batch 1/3 Cost: 0.699981\n",
            "Epoch   14/20 Batch 2/3 Cost: 0.124531\n",
            "Epoch   14/20 Batch 3/3 Cost: 0.319607\n",
            "Epoch   15/20 Batch 1/3 Cost: 0.791370\n",
            "Epoch   15/20 Batch 2/3 Cost: 0.211657\n",
            "Epoch   15/20 Batch 3/3 Cost: 0.114800\n",
            "Epoch   16/20 Batch 1/3 Cost: 0.887775\n",
            "Epoch   16/20 Batch 2/3 Cost: 0.254145\n",
            "Epoch   16/20 Batch 3/3 Cost: 0.018985\n",
            "Epoch   17/20 Batch 1/3 Cost: 0.770575\n",
            "Epoch   17/20 Batch 2/3 Cost: 0.162251\n",
            "Epoch   17/20 Batch 3/3 Cost: 0.182200\n",
            "Epoch   18/20 Batch 1/3 Cost: 0.930815\n",
            "Epoch   18/20 Batch 2/3 Cost: 0.098124\n",
            "Epoch   18/20 Batch 3/3 Cost: 0.146709\n",
            "Epoch   19/20 Batch 1/3 Cost: 0.952555\n",
            "Epoch   19/20 Batch 2/3 Cost: 0.002578\n",
            "Epoch   19/20 Batch 3/3 Cost: 0.192476\n",
            "Epoch   20/20 Batch 1/3 Cost: 0.941440\n",
            "Epoch   20/20 Batch 2/3 Cost: 0.064187\n",
            "Epoch   20/20 Batch 3/3 Cost: 0.007244\n"
          ],
          "name": "stdout"
        }
      ]
    },
    {
      "cell_type": "code",
      "metadata": {
        "id": "colK_Rtd6D2A",
        "outputId": "bdda5e93-1517-4a80-c191-33bcafd43d97",
        "colab": {
          "base_uri": "https://localhost:8080/",
          "height": 34
        }
      },
      "source": [
        "# 임의의 입력 [73, 80, 75]를 선언\n",
        "new_var =  torch.FloatTensor([[73, 80, 75]]) \n",
        "# 입력한 값 [73, 80, 75]에 대해서 예측값 y를 리턴받아서 pred_y에 저장\n",
        "pred_y = model(new_var) \n",
        "print(\"훈련 후 입력이 73, 80, 75일 때의 예측값 :\", pred_y) "
      ],
      "execution_count": 6,
      "outputs": [
        {
          "output_type": "stream",
          "text": [
            "훈련 후 입력이 73, 80, 75일 때의 예측값 : tensor([[150.7825]], grad_fn=<AddmmBackward>)\n"
          ],
          "name": "stdout"
        }
      ]
    },
    {
      "cell_type": "code",
      "metadata": {
        "id": "Vl0hcrCc6WiV"
      },
      "source": [
        ""
      ],
      "execution_count": null,
      "outputs": []
    }
  ]
}
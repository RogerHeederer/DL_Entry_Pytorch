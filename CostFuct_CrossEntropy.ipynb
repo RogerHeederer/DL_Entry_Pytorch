{
  "nbformat": 4,
  "nbformat_minor": 0,
  "metadata": {
    "colab": {
      "name": "CostFuct_CrossEntropy.ipynb",
      "provenance": [],
      "authorship_tag": "ABX9TyMyUh/8iHfUO/ofwbixGLLy",
      "include_colab_link": true
    },
    "kernelspec": {
      "name": "python3",
      "display_name": "Python 3"
    }
  },
  "cells": [
    {
      "cell_type": "markdown",
      "metadata": {
        "id": "view-in-github",
        "colab_type": "text"
      },
      "source": [
        "<a href=\"https://colab.research.google.com/github/RogerHeederer/DL_Entry_Pytorch/blob/master/CostFuct_CrossEntropy.ipynb\" target=\"_parent\"><img src=\"https://colab.research.google.com/assets/colab-badge.svg\" alt=\"Open In Colab\"/></a>"
      ]
    },
    {
      "cell_type": "markdown",
      "metadata": {
        "id": "qxoJISz53Xd_"
      },
      "source": [
        "Ref: https://wikidocs.net/60572"
      ]
    },
    {
      "cell_type": "markdown",
      "metadata": {
        "id": "a0J0Qaqn3TP2"
      },
      "source": [
        "소프트맥스 회귀의 비용 함수 구현"
      ]
    },
    {
      "cell_type": "code",
      "metadata": {
        "id": "GYtfRWaF3P6D",
        "outputId": "0ac9edd3-f5ff-4cfd-9566-7589fd714dca",
        "colab": {
          "base_uri": "https://localhost:8080/"
        }
      },
      "source": [
        "import torch\n",
        "import torch.nn.functional as F\n",
        "torch.manual_seed(1)"
      ],
      "execution_count": 3,
      "outputs": [
        {
          "output_type": "execute_result",
          "data": {
            "text/plain": [
              "<torch._C.Generator at 0x7f05d39ed588>"
            ]
          },
          "metadata": {
            "tags": []
          },
          "execution_count": 3
        }
      ]
    },
    {
      "cell_type": "markdown",
      "metadata": {
        "id": "eDAxfdzY3qKc"
      },
      "source": [
        "소프트맥스 비용 함수 로우-레벨로 구현"
      ]
    },
    {
      "cell_type": "code",
      "metadata": {
        "id": "K3RxpmX63gJM",
        "outputId": "3e556251-890c-425f-d68e-632fe2e21953",
        "colab": {
          "base_uri": "https://localhost:8080/"
        }
      },
      "source": [
        "z = torch.FloatTensor([1, 2, 3]) #3개의 원소를 가진 벡터 텐서 정의\n",
        "hypothesis = F.softmax(z, dim=0)\n",
        "print(hypothesis)\n",
        "# 3개의 원소 값들이 0~1사이의 값들로 변환됨"
      ],
      "execution_count": 4,
      "outputs": [
        {
          "output_type": "stream",
          "text": [
            "tensor([0.0900, 0.2447, 0.6652])\n"
          ],
          "name": "stdout"
        }
      ]
    },
    {
      "cell_type": "code",
      "metadata": {
        "id": "CJnGHBVp38eC",
        "outputId": "9d1324cc-6647-4dbc-de51-6ecd6e87556f",
        "colab": {
          "base_uri": "https://localhost:8080/"
        }
      },
      "source": [
        "hypothesis.sum()"
      ],
      "execution_count": 5,
      "outputs": [
        {
          "output_type": "execute_result",
          "data": {
            "text/plain": [
              "tensor(1.)"
            ]
          },
          "metadata": {
            "tags": []
          },
          "execution_count": 5
        }
      ]
    },
    {
      "cell_type": "code",
      "metadata": {
        "id": "7rQ7PkCv4FGy",
        "outputId": "9412fb4a-b63f-461c-b125-da3e4e4eb10b",
        "colab": {
          "base_uri": "https://localhost:8080/"
        }
      },
      "source": [
        "# 비용 함수 구해보기\n",
        "z = torch.rand(3, 5, requires_grad=True) # 3개의 샘플/ 그리고 5개의 클래스\n",
        "hypothesis = F.softmax(z, dim=1)\n",
        "print(hypothesis)"
      ],
      "execution_count": 6,
      "outputs": [
        {
          "output_type": "stream",
          "text": [
            "tensor([[0.2645, 0.1639, 0.1855, 0.2585, 0.1277],\n",
            "        [0.2430, 0.1624, 0.2322, 0.1930, 0.1694],\n",
            "        [0.2226, 0.1986, 0.2326, 0.1594, 0.1868]], grad_fn=<SoftmaxBackward>)\n"
          ],
          "name": "stdout"
        }
      ]
    },
    {
      "cell_type": "markdown",
      "metadata": {
        "id": "IQTD_pIE4q3f"
      },
      "source": [
        "위 결과는, 샘플은 3개. 각각의 샘플이 5개의 클래스 중 어디에 가장 높은 확률로 속하는 것인지 예시로 나타낸 것"
      ]
    },
    {
      "cell_type": "code",
      "metadata": {
        "id": "JRSFEi2i4oow",
        "outputId": "193376c8-3cbb-4662-868d-3deb0cb7c8ba",
        "colab": {
          "base_uri": "https://localhost:8080/"
        }
      },
      "source": [
        "# 각 샘플에 대해 임의의 레이블 만들기(정수인코딩?)\n",
        "y = torch.randint(5, (3,)).long()\n",
        "print(y)"
      ],
      "execution_count": 7,
      "outputs": [
        {
          "output_type": "stream",
          "text": [
            "tensor([0, 2, 1])\n"
          ],
          "name": "stdout"
        }
      ]
    },
    {
      "cell_type": "code",
      "metadata": {
        "id": "ebI823xL5why",
        "outputId": "7b84681d-f669-4293-af40-3c579aa4948e",
        "colab": {
          "base_uri": "https://localhost:8080/"
        }
      },
      "source": [
        "y.unsqueeze(1)"
      ],
      "execution_count": 8,
      "outputs": [
        {
          "output_type": "execute_result",
          "data": {
            "text/plain": [
              "tensor([[0],\n",
              "        [2],\n",
              "        [1]])"
            ]
          },
          "metadata": {
            "tags": []
          },
          "execution_count": 8
        }
      ]
    },
    {
      "cell_type": "code",
      "metadata": {
        "id": "XS8ryn0a5WaZ",
        "outputId": "49421cfb-4a07-4cee-f677-21db90b31915",
        "colab": {
          "base_uri": "https://localhost:8080/"
        }
      },
      "source": [
        "#원핫 인코딩 수행. 3X5 형태로 0을 쭉 채움\n",
        "y_one_hot = torch.zeros_like(hypothesis)\n",
        "y_one_hot"
      ],
      "execution_count": 10,
      "outputs": [
        {
          "output_type": "execute_result",
          "data": {
            "text/plain": [
              "tensor([[0., 0., 0., 0., 0.],\n",
              "        [0., 0., 0., 0., 0.],\n",
              "        [0., 0., 0., 0., 0.]])"
            ]
          },
          "metadata": {
            "tags": []
          },
          "execution_count": 10
        }
      ]
    },
    {
      "cell_type": "code",
      "metadata": {
        "id": "x-bWuGaR67L8",
        "outputId": "2f8fba9f-2ae1-4fe9-8437-3a021750227e",
        "colab": {
          "base_uri": "https://localhost:8080/"
        }
      },
      "source": [
        "#첫번째 인자 dim=1, y.unsqueeze(1)에서 나타내는 숫자를 위치로 삼아서, 세번째 인자값(1)을 넣어준다\n",
        "y_one_hot.scatter_(1, y.unsqueeze(1), 1) # scatter_ 언더 라인을 붙이면 덮어쓰기 연산이다.\n",
        "y_one_hot"
      ],
      "execution_count": 11,
      "outputs": [
        {
          "output_type": "execute_result",
          "data": {
            "text/plain": [
              "tensor([[1., 0., 0., 0., 0.],\n",
              "        [0., 0., 1., 0., 0.],\n",
              "        [0., 1., 0., 0., 0.]])"
            ]
          },
          "metadata": {
            "tags": []
          },
          "execution_count": 11
        }
      ]
    },
    {
      "cell_type": "code",
      "metadata": {
        "id": "ynZjJDTi6_gl",
        "outputId": "05c50938-4f6c-4f86-efae-f74ae254a6a3",
        "colab": {
          "base_uri": "https://localhost:8080/"
        }
      },
      "source": [
        "#비용함수\n",
        "cost = ( y_one_hot * -torch.log(hypothesis) ).sum(dim=1).mean()\n",
        "print(cost)"
      ],
      "execution_count": 12,
      "outputs": [
        {
          "output_type": "stream",
          "text": [
            "tensor(1.4689, grad_fn=<MeanBackward0>)\n"
          ],
          "name": "stdout"
        }
      ]
    },
    {
      "cell_type": "markdown",
      "metadata": {
        "id": "JHDEsJrX9xh3"
      },
      "source": [
        "파이토치로 소프트맥스의 비용 함수 구현( 하이-레벨)"
      ]
    },
    {
      "cell_type": "code",
      "metadata": {
        "id": "h2a43tHr7irj",
        "outputId": "75becff2-6f1c-4bb9-e4a5-117460d31a34",
        "colab": {
          "base_uri": "https://localhost:8080/"
        }
      },
      "source": [
        "# low level\n",
        "# torch.log(F.softmax(z, dim=1))\n",
        "-F.log_softmax(z, dim=1) # high level"
      ],
      "execution_count": 14,
      "outputs": [
        {
          "output_type": "execute_result",
          "data": {
            "text/plain": [
              "tensor([[1.3301, 1.8084, 1.6846, 1.3530, 2.0584],\n",
              "        [1.4147, 1.8174, 1.4602, 1.6450, 1.7758],\n",
              "        [1.5025, 1.6165, 1.4586, 1.8360, 1.6776]], grad_fn=<NegBackward>)"
            ]
          },
          "metadata": {
            "tags": []
          },
          "execution_count": 14
        }
      ]
    },
    {
      "cell_type": "code",
      "metadata": {
        "id": "go2ZTxFr-uh_",
        "outputId": "170bfaa0-5c7b-47e1-fac5-d9be4c82fa8c",
        "colab": {
          "base_uri": "https://localhost:8080/"
        }
      },
      "source": [
        "y_one_hot"
      ],
      "execution_count": 15,
      "outputs": [
        {
          "output_type": "execute_result",
          "data": {
            "text/plain": [
              "tensor([[1., 0., 0., 0., 0.],\n",
              "        [0., 0., 1., 0., 0.],\n",
              "        [0., 1., 0., 0., 0.]])"
            ]
          },
          "metadata": {
            "tags": []
          },
          "execution_count": 15
        }
      ]
    },
    {
      "cell_type": "code",
      "metadata": {
        "id": "GZ8fitIw-xz3",
        "outputId": "d09fe6b8-22cf-4ed4-fca8-606bae4e9f7f",
        "colab": {
          "base_uri": "https://localhost:8080/"
        }
      },
      "source": [
        "(y_one_hot * -F.log_softmax(z, dim=1))"
      ],
      "execution_count": 16,
      "outputs": [
        {
          "output_type": "execute_result",
          "data": {
            "text/plain": [
              "tensor([[1.3301, 0.0000, 0.0000, 0.0000, 0.0000],\n",
              "        [0.0000, 0.0000, 1.4602, 0.0000, 0.0000],\n",
              "        [0.0000, 1.6165, 0.0000, 0.0000, 0.0000]], grad_fn=<MulBackward0>)"
            ]
          },
          "metadata": {
            "tags": []
          },
          "execution_count": 16
        }
      ]
    },
    {
      "cell_type": "code",
      "metadata": {
        "id": "jcfH_NLY-Iw6",
        "outputId": "d1782c86-d293-4ecf-cca7-4f210386ac90",
        "colab": {
          "base_uri": "https://localhost:8080/"
        }
      },
      "source": [
        "(y_one_hot * -F.log_softmax(z, dim=1)).sum(dim=1).mean()"
      ],
      "execution_count": 17,
      "outputs": [
        {
          "output_type": "execute_result",
          "data": {
            "text/plain": [
              "tensor(1.4689, grad_fn=<MeanBackward0>)"
            ]
          },
          "metadata": {
            "tags": []
          },
          "execution_count": 17
        }
      ]
    },
    {
      "cell_type": "markdown",
      "metadata": {
        "id": "PnumkIMH_Ky3"
      },
      "source": [
        "F.cross_entropy는 비용 함수에 소프트맥수 함수까지 포함하고 있다"
      ]
    },
    {
      "cell_type": "code",
      "metadata": {
        "id": "oABvK0SF_EYc",
        "outputId": "1521a969-f271-421b-a594-0bcabe5709da",
        "colab": {
          "base_uri": "https://localhost:8080/"
        }
      },
      "source": [
        "F.cross_entropy(z, y)"
      ],
      "execution_count": 18,
      "outputs": [
        {
          "output_type": "execute_result",
          "data": {
            "text/plain": [
              "tensor(1.4689, grad_fn=<NllLossBackward>)"
            ]
          },
          "metadata": {
            "tags": []
          },
          "execution_count": 18
        }
      ]
    }
  ]
}
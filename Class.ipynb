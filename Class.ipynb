{
  "nbformat": 4,
  "nbformat_minor": 0,
  "metadata": {
    "colab": {
      "name": "Class.ipynb",
      "provenance": [],
      "authorship_tag": "ABX9TyMvkaimN+kvnIdBTeJGGB3c",
      "include_colab_link": true
    },
    "kernelspec": {
      "name": "python3",
      "display_name": "Python 3"
    }
  },
  "cells": [
    {
      "cell_type": "markdown",
      "metadata": {
        "id": "view-in-github",
        "colab_type": "text"
      },
      "source": [
        "<a href=\"https://colab.research.google.com/github/RogerHeederer/DL_Entry_Pytorch/blob/master/Class.ipynb\" target=\"_parent\"><img src=\"https://colab.research.google.com/assets/colab-badge.svg\" alt=\"Open In Colab\"/></a>"
      ]
    },
    {
      "cell_type": "code",
      "metadata": {
        "id": "6EAzdmdYTglq"
      },
      "source": [
        "import torch\n",
        "import torch.nn as nn\n",
        "import torch.nn.functional as F\n",
        "import torch.optim as optim\n",
        "\n",
        "\n",
        "class LinearRegressionModel(nn.Module): #torch.nn.Module를 상속받는 클래스\n",
        "  def __init__(self):\n",
        "    super().__init__() # nn.Module 클래스의 속성들을 가지고 초기화 됨\n",
        "    self.linear = nn.Linear(1, 1) # 단순 선형 회귀  input_dim=1, output_dim=1\n",
        "\n",
        "  def forward(self, x):\n",
        "    return self.linear(x)"
      ],
      "execution_count": 56,
      "outputs": []
    },
    {
      "cell_type": "code",
      "metadata": {
        "id": "P3tYHUH0T87S"
      },
      "source": [
        "model = LinearRegressionModel()"
      ],
      "execution_count": 57,
      "outputs": []
    },
    {
      "cell_type": "code",
      "metadata": {
        "id": "00mcDvN4WyvK"
      },
      "source": [
        "class MultivariateLinearRegressionModel(nn.Module):\n",
        "  def __init__(self):\n",
        "    super().__init__()\n",
        "    self.linear = nn.Linear(3,1) # 다중 선형 회귀이므로 input_dim=3, output_dim=1\n",
        "\n",
        "    def forward(self, x):\n",
        "      return self.linear(x)"
      ],
      "execution_count": 58,
      "outputs": []
    },
    {
      "cell_type": "code",
      "metadata": {
        "id": "NOcasuKyW3CF"
      },
      "source": [
        "model = MultivariateLinearRegressionModel() # == nn.linear(3,1)"
      ],
      "execution_count": 59,
      "outputs": []
    },
    {
      "cell_type": "markdown",
      "metadata": {
        "id": "FY6ONxdPX-MK"
      },
      "source": [
        "##단순선형회귀 클래스로 구현해보기"
      ]
    },
    {
      "cell_type": "code",
      "metadata": {
        "id": "Fr8agaO7XSXA"
      },
      "source": [
        "torch.manual_seed(1)\n",
        "\n",
        "#데이터\n",
        "x_train = torch.FloatTensor([[1],[2],[3]])\n",
        "y_train = torch.FloatTensor([[2],[4],[6]])"
      ],
      "execution_count": 60,
      "outputs": []
    },
    {
      "cell_type": "code",
      "metadata": {
        "id": "8ig32cSsXha7"
      },
      "source": [
        "class LinearRegressionModel(nn.Module):\n",
        "  def __init__(self):\n",
        "    super().__init__()\n",
        "    self.linear = nn.Linear(1, 1)\n",
        "\n",
        "  def forward(self, x):\n",
        "    return self.linear(x)"
      ],
      "execution_count": 61,
      "outputs": []
    },
    {
      "cell_type": "code",
      "metadata": {
        "id": "XVrZC6VXX6ZD"
      },
      "source": [
        "model = LinearRegressionModel()\n",
        "\n",
        "optimizer = torch.optim.SGD(model.parameters(), lr=0.01)"
      ],
      "execution_count": 62,
      "outputs": []
    },
    {
      "cell_type": "code",
      "metadata": {
        "id": "vXQRyH_IYGxP",
        "outputId": "7b35e3db-3365-4968-e73e-4b9eb86173d0",
        "colab": {
          "base_uri": "https://localhost:8080/"
        }
      },
      "source": [
        "nb_epochs = 2000\n",
        "for epoch in range(nb_epochs+1):\n",
        "  #H(x) 계산\n",
        "  prediction = model(x_train)\n",
        "  #cost 계산\n",
        "  cost = F.mse_loss(prediction, y_train)\n",
        "\n",
        "  #cost로 H(x) 개선 파트\n",
        "  optimizer.zero_grad() # gradient 0으로 초기화\n",
        "  cost.backward() # backward 연선\n",
        "  optimizer.step() # W와 b를 업데이트\n",
        "\n",
        "  if epoch % 100 == 0:\n",
        "    print('Epoch {:4d}/{} Cost: {:.6f}'.format(\n",
        "        epoch, nb_epochs, cost.item()\n",
        "    ))"
      ],
      "execution_count": 63,
      "outputs": [
        {
          "output_type": "stream",
          "text": [
            "Epoch    0/2000 Cost: 13.103541\n",
            "Epoch  100/2000 Cost: 0.002791\n",
            "Epoch  200/2000 Cost: 0.001724\n",
            "Epoch  300/2000 Cost: 0.001066\n",
            "Epoch  400/2000 Cost: 0.000658\n",
            "Epoch  500/2000 Cost: 0.000407\n",
            "Epoch  600/2000 Cost: 0.000251\n",
            "Epoch  700/2000 Cost: 0.000155\n",
            "Epoch  800/2000 Cost: 0.000096\n",
            "Epoch  900/2000 Cost: 0.000059\n",
            "Epoch 1000/2000 Cost: 0.000037\n",
            "Epoch 1100/2000 Cost: 0.000023\n",
            "Epoch 1200/2000 Cost: 0.000014\n",
            "Epoch 1300/2000 Cost: 0.000009\n",
            "Epoch 1400/2000 Cost: 0.000005\n",
            "Epoch 1500/2000 Cost: 0.000003\n",
            "Epoch 1600/2000 Cost: 0.000002\n",
            "Epoch 1700/2000 Cost: 0.000001\n",
            "Epoch 1800/2000 Cost: 0.000001\n",
            "Epoch 1900/2000 Cost: 0.000000\n",
            "Epoch 2000/2000 Cost: 0.000000\n"
          ],
          "name": "stdout"
        }
      ]
    },
    {
      "cell_type": "code",
      "metadata": {
        "id": "Rs-IjG7pcpft"
      },
      "source": [
        "# 데이터\n",
        "x_train = torch.FloatTensor([[73, 80, 75],\n",
        "                             [93, 88, 93],\n",
        "                             [89, 91, 90],\n",
        "                             [96, 98, 100],\n",
        "                             [73, 66, 70]])\n",
        "y_train = torch.FloatTensor([[152], [185], [180], [196], [142]])"
      ],
      "execution_count": 64,
      "outputs": []
    },
    {
      "cell_type": "code",
      "metadata": {
        "id": "4zkbd8y7btyS"
      },
      "source": [
        "class MultivariateLinearRegressionModel(nn.Module):\n",
        "  def __init__(self):\n",
        "    super().__init__()\n",
        "    self.linear = nn.Linear(3, 1)\n",
        "\n",
        "  def forward(self, x):\n",
        "    return self.linear(x)\n"
      ],
      "execution_count": 65,
      "outputs": []
    },
    {
      "cell_type": "code",
      "metadata": {
        "id": "4jmi0Yh8cBpz"
      },
      "source": [
        "model = MultivariateLinearRegressionModel()\n",
        "optimizer = torch.optim.SGD(model.parameters(), lr=1e-5)"
      ],
      "execution_count": 66,
      "outputs": []
    },
    {
      "cell_type": "code",
      "metadata": {
        "id": "f9rYwxQVcKMG",
        "outputId": "05d34268-c53b-46c1-8eee-d859bcdf67b3",
        "colab": {
          "base_uri": "https://localhost:8080/"
        }
      },
      "source": [
        "nb_epochs = 2000\n",
        "for epoch in range(nb_epochs+1):\n",
        "\n",
        "    # H(x) 계산\n",
        "    prediction = model(x_train)\n",
        "    # model(x_train)은 model.forward(x_train)와 동일함.\n",
        "\n",
        "    # cost 계산\n",
        "    cost = F.mse_loss(prediction, y_train) # <== 파이토치에서 제공하는 평균 제곱 오차 함수\n",
        "\n",
        "    # cost로 H(x) 개선하는 부분\n",
        "    # gradient를 0으로 초기화\n",
        "    optimizer.zero_grad()\n",
        "    # 비용 함수를 미분하여 gradient 계산\n",
        "    cost.backward()\n",
        "    # W와 b를 업데이트\n",
        "    optimizer.step()\n",
        "\n",
        "    if epoch % 100 == 0:\n",
        "    # 100번마다 로그 출력\n",
        "      print('Epoch {:4d}/{} Weight: {} Cost: {:.6f}'.format(\n",
        "          epoch, nb_epochs, prediction.squeeze().detach(), cost.item()\n",
        "      ))"
      ],
      "execution_count": 67,
      "outputs": [
        {
          "output_type": "stream",
          "text": [
            "Epoch    0/2000 Weight: tensor([-26.9105, -36.7648, -33.8735, -38.1955, -27.9867]) Cost: 42134.703125\n",
            "Epoch  100/2000 Weight: tensor([155.1147, 182.1955, 181.7784, 196.6553, 139.0603]) Cost: 5.960053\n",
            "Epoch  200/2000 Weight: tensor([155.0220, 182.2590, 181.7499, 196.6353, 139.1431]) Cost: 5.654707\n",
            "Epoch  300/2000 Weight: tensor([154.9318, 182.3208, 181.7222, 196.6158, 139.2236]) Cost: 5.365413\n",
            "Epoch  400/2000 Weight: tensor([154.8440, 182.3809, 181.6952, 196.5968, 139.3021]) Cost: 5.091429\n",
            "Epoch  500/2000 Weight: tensor([154.7586, 182.4394, 181.6689, 196.5784, 139.3784]) Cost: 4.831834\n",
            "Epoch  600/2000 Weight: tensor([154.6754, 182.4964, 181.6434, 196.5605, 139.4527]) Cost: 4.585997\n",
            "Epoch  700/2000 Weight: tensor([154.5945, 182.5518, 181.6185, 196.5431, 139.5249]) Cost: 4.353045\n",
            "Epoch  800/2000 Weight: tensor([154.5157, 182.6058, 181.5943, 196.5261, 139.5953]) Cost: 4.132426\n",
            "Epoch  900/2000 Weight: tensor([154.4390, 182.6583, 181.5707, 196.5097, 139.6637]) Cost: 3.923438\n",
            "Epoch 1000/2000 Weight: tensor([154.3643, 182.7094, 181.5477, 196.4936, 139.7303]) Cost: 3.725489\n",
            "Epoch 1100/2000 Weight: tensor([154.2917, 182.7592, 181.5254, 196.4780, 139.7952]) Cost: 3.537973\n",
            "Epoch 1200/2000 Weight: tensor([154.2210, 182.8076, 181.5037, 196.4629, 139.8582]) Cost: 3.360339\n",
            "Epoch 1300/2000 Weight: tensor([154.1521, 182.8547, 181.4825, 196.4481, 139.9196]) Cost: 3.192076\n",
            "Epoch 1400/2000 Weight: tensor([154.0851, 182.9006, 181.4619, 196.4338, 139.9793]) Cost: 3.032686\n",
            "Epoch 1500/2000 Weight: tensor([154.0199, 182.9453, 181.4418, 196.4198, 140.0375]) Cost: 2.881703\n",
            "Epoch 1600/2000 Weight: tensor([153.9564, 182.9887, 181.4223, 196.4063, 140.0940]) Cost: 2.738666\n",
            "Epoch 1700/2000 Weight: tensor([153.8946, 183.0310, 181.4033, 196.3931, 140.1491]) Cost: 2.603199\n",
            "Epoch 1800/2000 Weight: tensor([153.8344, 183.0722, 181.3848, 196.3802, 140.2027]) Cost: 2.474860\n",
            "Epoch 1900/2000 Weight: tensor([153.7759, 183.1123, 181.3668, 196.3678, 140.2548]) Cost: 2.353289\n",
            "Epoch 2000/2000 Weight: tensor([153.7189, 183.1513, 181.3492, 196.3556, 140.3055]) Cost: 2.238115\n"
          ],
          "name": "stdout"
        }
      ]
    },
    {
      "cell_type": "code",
      "metadata": {
        "id": "u-sVqh5Ichxz"
      },
      "source": [
        ""
      ],
      "execution_count": null,
      "outputs": []
    }
  ]
}
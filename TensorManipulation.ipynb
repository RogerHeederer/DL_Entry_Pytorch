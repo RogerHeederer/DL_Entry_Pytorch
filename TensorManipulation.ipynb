{
  "nbformat": 4,
  "nbformat_minor": 0,
  "metadata": {
    "colab": {
      "name": "TensorManipulation.ipynb",
      "provenance": [],
      "collapsed_sections": [],
      "authorship_tag": "ABX9TyM+ndSpdLE7hMGx6ikz/iOx",
      "include_colab_link": true
    },
    "kernelspec": {
      "name": "python3",
      "display_name": "Python 3"
    }
  },
  "cells": [
    {
      "cell_type": "markdown",
      "metadata": {
        "id": "view-in-github",
        "colab_type": "text"
      },
      "source": [
        "<a href=\"https://colab.research.google.com/github/RogerHeederer/DL_Entry_Pytorch/blob/master/TensorManipulation.ipynb\" target=\"_parent\"><img src=\"https://colab.research.google.com/assets/colab-badge.svg\" alt=\"Open In Colab\"/></a>"
      ]
    },
    {
      "cell_type": "markdown",
      "metadata": {
        "id": "kzcQdAmLB_Tu"
      },
      "source": [
        "Reference :https://wikidocs.net/\n",
        "Pytorch로 시작하는 딥 러닝 입문"
      ]
    },
    {
      "cell_type": "code",
      "metadata": {
        "id": "pHQOSFYeYHOC",
        "outputId": "6db1f1e6-1e6e-4603-efe5-27ec42b8ecc6",
        "colab": {
          "base_uri": "https://localhost:8080/",
          "height": 34
        }
      },
      "source": [
        "!git clone https://github.com/RogerHeederer/DL_entry_PyTorch.git"
      ],
      "execution_count": 55,
      "outputs": [
        {
          "output_type": "stream",
          "text": [
            "fatal: destination path 'DL_entry_PyTorch' already exists and is not an empty directory.\n"
          ],
          "name": "stdout"
        }
      ]
    },
    {
      "cell_type": "code",
      "metadata": {
        "id": "9qbplAy9ANsN",
        "outputId": "fbdafbf8-c664-4933-ac89-f674de1e0b5b",
        "colab": {
          "base_uri": "https://localhost:8080/",
          "height": 34
        }
      },
      "source": [
        "import torch\n",
        "t = torch.FloatTensor([0., 1., 2., 3., 4., 5., 6.])\n",
        "print(t)"
      ],
      "execution_count": null,
      "outputs": [
        {
          "output_type": "stream",
          "text": [
            "tensor([0., 1., 2., 3., 4., 5., 6.])\n"
          ],
          "name": "stdout"
        }
      ]
    },
    {
      "cell_type": "code",
      "metadata": {
        "id": "Cv08_QDSBeeZ",
        "outputId": "96480e6f-9eb4-414c-bc56-9db869954f55",
        "colab": {
          "base_uri": "https://localhost:8080/",
          "height": 34
        }
      },
      "source": [
        "print(t.dim())"
      ],
      "execution_count": null,
      "outputs": [
        {
          "output_type": "stream",
          "text": [
            "1\n"
          ],
          "name": "stdout"
        }
      ]
    },
    {
      "cell_type": "code",
      "metadata": {
        "id": "YUPZXn-gBhZC",
        "outputId": "d9ea75f9-0413-461d-cb64-7940ce096148",
        "colab": {
          "base_uri": "https://localhost:8080/",
          "height": 34
        }
      },
      "source": [
        "print(t.shape)"
      ],
      "execution_count": null,
      "outputs": [
        {
          "output_type": "stream",
          "text": [
            "torch.Size([7])\n"
          ],
          "name": "stdout"
        }
      ]
    },
    {
      "cell_type": "code",
      "metadata": {
        "id": "-LuE3oIjBisY",
        "outputId": "351973c7-1028-4d53-f517-e7dde8f4678a",
        "colab": {
          "base_uri": "https://localhost:8080/",
          "height": 34
        }
      },
      "source": [
        "print(t.size())"
      ],
      "execution_count": null,
      "outputs": [
        {
          "output_type": "stream",
          "text": [
            "torch.Size([7])\n"
          ],
          "name": "stdout"
        }
      ]
    },
    {
      "cell_type": "code",
      "metadata": {
        "id": "LzJtCcAiBmnt",
        "outputId": "bbae8c5f-7452-45c0-c7d1-fba3d08da932",
        "colab": {
          "base_uri": "https://localhost:8080/",
          "height": 34
        }
      },
      "source": [
        "print(t[0], t[1], t[-1])"
      ],
      "execution_count": null,
      "outputs": [
        {
          "output_type": "stream",
          "text": [
            "tensor(0.) tensor(1.) tensor(6.)\n"
          ],
          "name": "stdout"
        }
      ]
    },
    {
      "cell_type": "code",
      "metadata": {
        "id": "1dlPnljGBstw",
        "outputId": "a68bf258-5c15-40f6-8b99-9608a1045ea3",
        "colab": {
          "base_uri": "https://localhost:8080/",
          "height": 34
        }
      },
      "source": [
        "print(t[2:5], t[4:-1])"
      ],
      "execution_count": null,
      "outputs": [
        {
          "output_type": "stream",
          "text": [
            "tensor([2., 3., 4.]) tensor([4., 5.])\n"
          ],
          "name": "stdout"
        }
      ]
    },
    {
      "cell_type": "code",
      "metadata": {
        "id": "sygwUv_hBvws",
        "outputId": "ecdef7c0-022e-4264-bc5b-456c85944500",
        "colab": {
          "base_uri": "https://localhost:8080/",
          "height": 34
        }
      },
      "source": [
        "print(t[:2], t[3:])"
      ],
      "execution_count": null,
      "outputs": [
        {
          "output_type": "stream",
          "text": [
            "tensor([0., 1.]) tensor([3., 4., 5., 6.])\n"
          ],
          "name": "stdout"
        }
      ]
    },
    {
      "cell_type": "markdown",
      "metadata": {
        "id": "lExNftVDCMUs"
      },
      "source": [
        "## 2D with pytorch"
      ]
    },
    {
      "cell_type": "code",
      "metadata": {
        "id": "1T6yEHosBzhS",
        "outputId": "5e9142f3-dca4-4f81-d6b8-274468064ec6",
        "colab": {
          "base_uri": "https://localhost:8080/",
          "height": 85
        }
      },
      "source": [
        "t = torch.FloatTensor([[1., 2., 3.],\n",
        "                       [4., 5., 6.],\n",
        "                       [7., 8., 9.],\n",
        "                       [10., 11., 12.]\n",
        "                       ])\n",
        "print(t)"
      ],
      "execution_count": null,
      "outputs": [
        {
          "output_type": "stream",
          "text": [
            "tensor([[ 1.,  2.,  3.],\n",
            "        [ 4.,  5.,  6.],\n",
            "        [ 7.,  8.,  9.],\n",
            "        [10., 11., 12.]])\n"
          ],
          "name": "stdout"
        }
      ]
    },
    {
      "cell_type": "code",
      "metadata": {
        "id": "_ALNuG-LCaGv",
        "outputId": "7bd1230b-04ec-4f44-9810-1e53cb4935db",
        "colab": {
          "base_uri": "https://localhost:8080/",
          "height": 51
        }
      },
      "source": [
        "print(t.dim())\n",
        "print(t.size())"
      ],
      "execution_count": null,
      "outputs": [
        {
          "output_type": "stream",
          "text": [
            "2\n",
            "torch.Size([4, 3])\n"
          ],
          "name": "stdout"
        }
      ]
    },
    {
      "cell_type": "code",
      "metadata": {
        "id": "VYseSfhOCfDS",
        "outputId": "c1980ffd-e402-42fc-cc29-d2a5abf140dd",
        "colab": {
          "base_uri": "https://localhost:8080/",
          "height": 85
        }
      },
      "source": [
        "print(t[:, :-1]) # 첫번째 차원은 모두 선택, 두번째 차원에서는 맨 마지막꺼 빼고 다 가져오기"
      ],
      "execution_count": null,
      "outputs": [
        {
          "output_type": "stream",
          "text": [
            "tensor([[ 1.,  2.],\n",
            "        [ 4.,  5.],\n",
            "        [ 7.,  8.],\n",
            "        [10., 11.]])\n"
          ],
          "name": "stdout"
        }
      ]
    },
    {
      "cell_type": "markdown",
      "metadata": {
        "id": "Ghv2cEedD-9d"
      },
      "source": [
        "##브로드캐스팅"
      ]
    },
    {
      "cell_type": "code",
      "metadata": {
        "id": "nfG2DDuwCjM5",
        "outputId": "ada8695f-22c8-401f-c7fb-7f0beb3c7780",
        "colab": {
          "base_uri": "https://localhost:8080/",
          "height": 34
        }
      },
      "source": [
        "m1 = torch.FloatTensor([[3,3]])\n",
        "m2 = torch.FloatTensor([[2,2]])\n",
        "print(m1 + m2)"
      ],
      "execution_count": null,
      "outputs": [
        {
          "output_type": "stream",
          "text": [
            "tensor([[5., 5.]])\n"
          ],
          "name": "stdout"
        }
      ]
    },
    {
      "cell_type": "code",
      "metadata": {
        "id": "atXXA5MAEG4B",
        "outputId": "662e3f80-20b1-4eb2-a9d7-27f6e8146e07",
        "colab": {
          "base_uri": "https://localhost:8080/",
          "height": 34
        }
      },
      "source": [
        "# vector + scalar\n",
        "m1 = torch.FloatTensor([[1, 2]])\n",
        "m2 = torch.FloatTensor([3])\n",
        "print(m1 + m2)"
      ],
      "execution_count": null,
      "outputs": [
        {
          "output_type": "stream",
          "text": [
            "tensor([[4., 5.]])\n"
          ],
          "name": "stdout"
        }
      ]
    },
    {
      "cell_type": "code",
      "metadata": {
        "id": "L7DGLfAHEvcW",
        "outputId": "27964938-abe6-4c4e-d147-20bd006b50b3",
        "colab": {
          "base_uri": "https://localhost:8080/",
          "height": 51
        }
      },
      "source": [
        "# 2x1 Vector + 1 x 2 vector\n",
        "m1 = torch.FloatTensor([[1,2]])\n",
        "m2 = torch.FloatTensor([[3], [4]])\n",
        "print(m1 + m2)"
      ],
      "execution_count": null,
      "outputs": [
        {
          "output_type": "stream",
          "text": [
            "tensor([[4., 5.],\n",
            "        [5., 6.]])\n"
          ],
          "name": "stdout"
        }
      ]
    },
    {
      "cell_type": "code",
      "metadata": {
        "id": "VDh9WtvZGEYU",
        "outputId": "b98d4855-52fe-4c98-9ed2-aca6a29d5e9a",
        "colab": {
          "base_uri": "https://localhost:8080/",
          "height": 51
        }
      },
      "source": [
        "print(m1.shape)\n",
        "print(m2.shape)"
      ],
      "execution_count": null,
      "outputs": [
        {
          "output_type": "stream",
          "text": [
            "torch.Size([1, 2])\n",
            "torch.Size([2, 1])\n"
          ],
          "name": "stdout"
        }
      ]
    },
    {
      "cell_type": "markdown",
      "metadata": {
        "id": "-ncegd2wGYcs"
      },
      "source": [
        "##행렬곱셈과 곱셈의 차이"
      ]
    },
    {
      "cell_type": "code",
      "metadata": {
        "id": "wj_Lo5XLGLWZ",
        "outputId": "0a0ba8ac-8960-45b0-f199-e7cfcb93ecdd",
        "colab": {
          "base_uri": "https://localhost:8080/",
          "height": 85
        }
      },
      "source": [
        "m1 = torch.FloatTensor([[1, 2], [3, 4]])\n",
        "m2 = torch.FloatTensor([[1], [2]])\n",
        "print('shape of matrix 1: ', m1.shape)\n",
        "print('shape of matrix 2: ', m2.shape)\n",
        "print(m1.matmul(m2))"
      ],
      "execution_count": null,
      "outputs": [
        {
          "output_type": "stream",
          "text": [
            "shape of matrix 1:  torch.Size([2, 2])\n",
            "shape of matrix 2:  torch.Size([2, 1])\n",
            "tensor([[ 5.],\n",
            "        [11.]])\n"
          ],
          "name": "stdout"
        }
      ]
    },
    {
      "cell_type": "code",
      "metadata": {
        "id": "tIzEjMTWGp_d",
        "outputId": "c2833862-40bb-4829-d6ad-b760812cb005",
        "colab": {
          "base_uri": "https://localhost:8080/",
          "height": 85
        }
      },
      "source": [
        "# 엘리먼트 와이즈 곱셈 = 그냥 곱셈\n",
        "print(m1 * m2) # 2 X 2로 브로드 캐스팅 된다\n",
        "print(m1.mul(m2))  # matmul과 다르다"
      ],
      "execution_count": null,
      "outputs": [
        {
          "output_type": "stream",
          "text": [
            "tensor([[1., 2.],\n",
            "        [6., 8.]])\n",
            "tensor([[1., 2.],\n",
            "        [6., 8.]])\n"
          ],
          "name": "stdout"
        }
      ]
    },
    {
      "cell_type": "markdown",
      "metadata": {
        "id": "F_X-phM8HlyX"
      },
      "source": [
        "## 평균구하기"
      ]
    },
    {
      "cell_type": "code",
      "metadata": {
        "id": "yqCyjDreG7u8",
        "outputId": "e521a6c9-1544-48d2-8bc7-f1f9f8aef447",
        "colab": {
          "base_uri": "https://localhost:8080/",
          "height": 34
        }
      },
      "source": [
        "t = torch.FloatTensor([1,2])\n",
        "print(t.mean())"
      ],
      "execution_count": null,
      "outputs": [
        {
          "output_type": "stream",
          "text": [
            "tensor(1.5000)\n"
          ],
          "name": "stdout"
        }
      ]
    },
    {
      "cell_type": "code",
      "metadata": {
        "id": "hB_N1Y1NHkzH",
        "outputId": "4f940bad-c250-488a-db28-fc35edbfb133",
        "colab": {
          "base_uri": "https://localhost:8080/",
          "height": 51
        }
      },
      "source": [
        "t = torch.FloatTensor([[1,2], [3,4]])\n",
        "print(t)"
      ],
      "execution_count": null,
      "outputs": [
        {
          "output_type": "stream",
          "text": [
            "tensor([[1., 2.],\n",
            "        [3., 4.]])\n"
          ],
          "name": "stdout"
        }
      ]
    },
    {
      "cell_type": "code",
      "metadata": {
        "id": "zMzymV8oHweJ",
        "outputId": "c76cef80-fa3d-4ecb-de7f-b6f3bae19924",
        "colab": {
          "base_uri": "https://localhost:8080/",
          "height": 34
        }
      },
      "source": [
        "print(t.mean())"
      ],
      "execution_count": null,
      "outputs": [
        {
          "output_type": "stream",
          "text": [
            "tensor(2.5000)\n"
          ],
          "name": "stdout"
        }
      ]
    },
    {
      "cell_type": "code",
      "metadata": {
        "id": "bkhdTwDpHyFg",
        "outputId": "703a1c27-f8d8-44e1-a15a-1adbfb5b7a93",
        "colab": {
          "base_uri": "https://localhost:8080/",
          "height": 34
        }
      },
      "source": [
        "a = t.mean(dim=0)\n",
        "print(a, a.shape) #dim = 0은 첫번째 차원 의미/ #행렬에서 첫번째 차원은 행을 의미\n",
        "\n",
        "# 인자로 dim을 주면 해당 차원을 제거한다는 의미. 즉 dim = 0을 인자로 주면 첫번째 차원(행)을 제거한다는 말\n",
        "# 다시 말하면 column만 남긴다는 의미. \n",
        "\n",
        "# 2x2 -> 1x2"
      ],
      "execution_count": null,
      "outputs": [
        {
          "output_type": "stream",
          "text": [
            "tensor([2., 3.]) torch.Size([2])\n"
          ],
          "name": "stdout"
        }
      ]
    },
    {
      "cell_type": "code",
      "metadata": {
        "id": "-26tS7aQH0Yy",
        "outputId": "8229bd3a-4211-4608-9cd3-adea559b7aad",
        "colab": {
          "base_uri": "https://localhost:8080/",
          "height": 34
        }
      },
      "source": [
        "b = t.mean(dim=1)\n",
        "print(b, b.shape) # 이번에는 dim = 1을 주겠다. 두번째 차원(Column)을 제거하겠다는 의미\n",
        "\n",
        "# 2x2 -> 2x1"
      ],
      "execution_count": null,
      "outputs": [
        {
          "output_type": "stream",
          "text": [
            "tensor([1.5000, 3.5000]) torch.Size([2])\n"
          ],
          "name": "stdout"
        }
      ]
    },
    {
      "cell_type": "code",
      "metadata": {
        "id": "SgdmLiEXI3IN",
        "outputId": "3d7191c3-ad3c-4932-c964-615a6ece8dcb",
        "colab": {
          "base_uri": "https://localhost:8080/",
          "height": 34
        }
      },
      "source": [
        "print(t.mean(dim=-1)) # 마지막 차원을 제거한다 = 결국 열의 차원을 제거한다는 소리\n"
      ],
      "execution_count": null,
      "outputs": [
        {
          "output_type": "stream",
          "text": [
            "tensor([1.5000, 3.5000])\n"
          ],
          "name": "stdout"
        }
      ]
    },
    {
      "cell_type": "markdown",
      "metadata": {
        "id": "eDl3HC-IQIJP"
      },
      "source": [
        "##덧셈하기"
      ]
    },
    {
      "cell_type": "code",
      "metadata": {
        "id": "FS87UuA8KH1S",
        "outputId": "a9f0edd0-0a19-41ab-cc5e-4bc4f9a666e5",
        "colab": {
          "base_uri": "https://localhost:8080/",
          "height": 51
        }
      },
      "source": [
        "t = torch.FloatTensor([[1, 2], [3, 4]])\n",
        "print(t)"
      ],
      "execution_count": null,
      "outputs": [
        {
          "output_type": "stream",
          "text": [
            "tensor([[1., 2.],\n",
            "        [3., 4.]])\n"
          ],
          "name": "stdout"
        }
      ]
    },
    {
      "cell_type": "code",
      "metadata": {
        "id": "j6YhiuSdQORv",
        "outputId": "e8e84823-6ea2-46f1-84a0-319213b17b29",
        "colab": {
          "base_uri": "https://localhost:8080/",
          "height": 85
        }
      },
      "source": [
        "print(t.sum())\n",
        "print(t.sum(dim=0)) # 행을 제거\n",
        "print(t.sum(dim=1)) # 열을 제거\n",
        "print(t.sum(dim=-1))# 열을 제거"
      ],
      "execution_count": null,
      "outputs": [
        {
          "output_type": "stream",
          "text": [
            "tensor(10.)\n",
            "tensor([4., 6.])\n",
            "tensor([3., 7.])\n",
            "tensor([3., 7.])\n"
          ],
          "name": "stdout"
        }
      ]
    },
    {
      "cell_type": "markdown",
      "metadata": {
        "id": "jbu823UtR3Fn"
      },
      "source": [
        "## Max와 argMax"
      ]
    },
    {
      "cell_type": "code",
      "metadata": {
        "id": "53Pfn_bdQe5k",
        "outputId": "1ea8dea5-9216-4db7-c1e5-191d4f1908b7",
        "colab": {
          "base_uri": "https://localhost:8080/",
          "height": 51
        }
      },
      "source": [
        "t = torch.FloatTensor([[1, 2], [3, 4]])\n",
        "print(t)"
      ],
      "execution_count": null,
      "outputs": [
        {
          "output_type": "stream",
          "text": [
            "tensor([[1., 2.],\n",
            "        [3., 4.]])\n"
          ],
          "name": "stdout"
        }
      ]
    },
    {
      "cell_type": "code",
      "metadata": {
        "id": "1yuRJmK1R_3t",
        "outputId": "b997e0d9-321a-4814-effe-cc6a72528433",
        "colab": {
          "base_uri": "https://localhost:8080/",
          "height": 34
        }
      },
      "source": [
        "print(t.max())"
      ],
      "execution_count": null,
      "outputs": [
        {
          "output_type": "stream",
          "text": [
            "tensor(4.)\n"
          ],
          "name": "stdout"
        }
      ]
    },
    {
      "cell_type": "code",
      "metadata": {
        "id": "oE2QdwTJSJYF",
        "outputId": "d8db82a7-a859-417c-fc55-f4d1d34bd3c4",
        "colab": {
          "base_uri": "https://localhost:8080/",
          "height": 68
        }
      },
      "source": [
        "print(t.max(dim=0)) #행을 제거함/ dim을 인자로 주면 argmax까지 같이 계산해서 던져줌\n",
        "\n",
        "# [[1, 2]\n",
        "#  [3, 4]]\n",
        "# 첫번째 열에서 0번 인덱스는 1, 1번 인덱스는 3\n",
        "# 두번째 열에서 0번 인덱스는 2, 1번 인덱스는 4\n",
        "# 3과 4가 리턴되었으니 argmax 값은 1번 인덱스,  1번 인덱스"
      ],
      "execution_count": null,
      "outputs": [
        {
          "output_type": "stream",
          "text": [
            "torch.return_types.max(\n",
            "values=tensor([3., 4.]),\n",
            "indices=tensor([1, 1]))\n"
          ],
          "name": "stdout"
        }
      ]
    },
    {
      "cell_type": "code",
      "metadata": {
        "id": "95or-CeISLso",
        "outputId": "3bb03022-acaa-4108-f689-d5c8840a228b",
        "colab": {
          "base_uri": "https://localhost:8080/",
          "height": 51
        }
      },
      "source": [
        "# max값 armmax값 따로 리턴 받기\n",
        "print('Max: ', t.max(dim=0)[0])\n",
        "print('Argmax: ', t.max(dim=0)[1])"
      ],
      "execution_count": null,
      "outputs": [
        {
          "output_type": "stream",
          "text": [
            "Max:  tensor([3., 4.])\n",
            "Argmax:  tensor([1, 1])\n"
          ],
          "name": "stdout"
        }
      ]
    },
    {
      "cell_type": "code",
      "metadata": {
        "id": "PLdUxMyZTzBv",
        "outputId": "69370d70-707a-4b9b-d19e-05884aa13dae",
        "colab": {
          "base_uri": "https://localhost:8080/",
          "height": 119
        }
      },
      "source": [
        "print(t.max(dim=1))\n",
        "print(t.max(dim=-1))"
      ],
      "execution_count": null,
      "outputs": [
        {
          "output_type": "stream",
          "text": [
            "torch.return_types.max(\n",
            "values=tensor([2., 4.]),\n",
            "indices=tensor([1, 1]))\n",
            "torch.return_types.max(\n",
            "values=tensor([2., 4.]),\n",
            "indices=tensor([1, 1]))\n"
          ],
          "name": "stdout"
        }
      ]
    },
    {
      "cell_type": "code",
      "metadata": {
        "id": "rFmrh3aUT46m"
      },
      "source": [
        ""
      ],
      "execution_count": null,
      "outputs": []
    }
  ]
}